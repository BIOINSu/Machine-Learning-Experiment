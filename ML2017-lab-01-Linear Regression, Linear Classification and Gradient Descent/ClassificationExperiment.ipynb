{
 "cells": [
  {
   "cell_type": "code",
   "execution_count": 1,
   "metadata": {
    "collapsed": true
   },
   "outputs": [],
   "source": [
    "#导入相应包\n",
    "from sklearn.datasets import load_svmlight_file\n",
    "from sklearn.model_selection import train_test_split\n",
    "import numpy as np\n",
    "import matplotlib.pyplot as plt\n",
    "from scipy.linalg.misc import norm"
   ]
  },
  {
   "cell_type": "code",
   "execution_count": 2,
   "metadata": {
    "collapsed": true
   },
   "outputs": [],
   "source": [
    "#读取相应数据\n",
    "data,label=load_svmlight_file('australian_scale')\n",
    "data = data.todense()  "
   ]
  },
  {
   "cell_type": "code",
   "execution_count": 3,
   "metadata": {
    "collapsed": false
   },
   "outputs": [],
   "source": [
    "#将feature和label划分成training data和validation data\n",
    "# feature_train 这是特征的训练集合\n",
    "# feature_val 这是特征的测试集合\n",
    "# label_train 这是标签的训练集合\n",
    "# label_val 这是标签的测试集合\n",
    "feature_train,feature_val,label_train,label_val = train_test_split(data,label,test_size=0.30, random_state=42)"
   ]
  },
  {
   "cell_type": "code",
   "execution_count": 4,
   "metadata": {
    "collapsed": false
   },
   "outputs": [],
   "source": [
    "#向矩阵中加入偏执项的函数\n",
    "def add_bias(matrix):    \n",
    "    bias = []\n",
    "    #构造偏执项list\n",
    "    for i in range(matrix.shape[0]):\n",
    "        bias.append(1)\n",
    "    #向矩阵中加入一列偏执项\n",
    "    matrix = np.column_stack((matrix,bias))\n",
    "    return matrix\n",
    "\n",
    "#在特征集合中加入偏执项\n",
    "feature_train = add_bias(feature_train)\n",
    "feature_val = add_bias(feature_val)"
   ]
  },
  {
   "cell_type": "code",
   "execution_count": 5,
   "metadata": {
    "collapsed": false
   },
   "outputs": [],
   "source": [
    "#构造并初始化系数矩阵\n",
    "w = np.ones((1,15))\n"
   ]
  },
  {
   "cell_type": "code",
   "execution_count": 105,
   "metadata": {
    "collapsed": false
   },
   "outputs": [
    {
     "data": {
      "image/png": "[encoded data removed]",
      "text/plain": [
       "<matplotlib.figure.Figure at 0x28173c9dc50>"
      ]
     },
     "metadata": {},
     "output_type": "display_data"
    }
   ],
   "source": [
    "#梯度下降算法函数\n",
    "# x 表示特征训练集\n",
    "# y 表示标签训练集\n",
    "# x_val 表示特征验证集\n",
    "# y_val 表示标签验证集\n",
    "# w 表示初始化的稀疏矩阵\n",
    "# learning_rate 表示学习率\n",
    "# maxiterations 表示最大迭代次数\n",
    "def gradient_descent(x,y,x_val,y_val,C,w,learning_rate,maxiterations):\n",
    "    \n",
    "    #将label进行转置\n",
    "    y = np.asmatrix(y)\n",
    "    y = np.transpose(y)\n",
    "    y_val = np.asmatrix(y_val)\n",
    "    y_val = np.transpose(y_val)\n",
    "    w = np.asmatrix(w)\n",
    "    w = np.transpose(w)\n",
    "    \n",
    "\n",
    "    #定义迭代次数和loss值\n",
    "    iteration_time = [] #迭代次数\n",
    "    train_loss_value = [] #训练数据的loss值\n",
    "    val_loss_value = [] #验证数据的loss值\n",
    "\n",
    "    \n",
    "    #进行迭代计算\n",
    "    for i in range(0,maxiterations):\n",
    "        \n",
    "        \n",
    "        #计算SVM损失函数的梯度\n",
    "        gradient = 0\n",
    "        for j in range(len(x)):\n",
    "            if 1 - (y[j].tolist()[0][0])*( np.dot(x[j],w).tolist()[0][0] ) >= 0 :\n",
    "                gradient = gradient - (y[j].tolist()[0][0])*(x[j])\n",
    "        \n",
    "        gradient = gradient*C\n",
    "        gradient = np.transpose(gradient)+w\n",
    "        \n",
    "    \n",
    "\n",
    "        #对系数矩阵进行更新\n",
    "        w = w - learning_rate*gradient\n",
    "\n",
    "        \n",
    "        #定义损失函数并求出损失函数的结果\n",
    "        #训练集上的loss值\n",
    "        train_loss = 0\n",
    "        for j in range(len(x)):\n",
    "            train_loss = train_loss +  max(0,1 - (y[j].tolist()[0][0])*( np.dot(x[j],w).tolist()[0][0] ))  \n",
    "        train_loss = train_loss*C/x.shape[0]\n",
    "        train_loss = train_loss + ((norm(w))**2)/2\n",
    "        \n",
    "        \n",
    "#         #验证集上的loss值\n",
    "        val_loss = 0\n",
    "        for j in range(len(x_val)):\n",
    "            val_loss = val_loss +  max(0,1 - (y_val[j].tolist()[0][0])*( np.dot(x_val[j],w).tolist()[0][0] ))\n",
    "        val_loss = val_loss*C/x_val.shape[0]\n",
    "        val_loss = val_loss + ((norm(w))**2)/2\n",
    "\n",
    "        \n",
    "        #记录迭代次数和loss的值\n",
    "        iteration_time.append(i)\n",
    "        train_loss_value.append(train_loss)\n",
    "        val_loss_value.append(val_loss)\n",
    "        \n",
    "        \n",
    "    \n",
    "   \n",
    "    #画出loss函数图像\n",
    "    plt.plot(iteration_time, train_loss_value , label='Training Loss')\n",
    "    plt.plot(iteration_time, val_loss_value , label='Validation Loss')\n",
    "\n",
    "    plt.title('loss')\n",
    "    plt.legend()\n",
    "    plt.show()\n",
    "\n",
    "\n",
    "\n",
    "\n",
    "\n",
    "gradient_descent(feature_train,label_train,feature_val,label_val,0.5,w,0.001,300)"
   ]
  },
  {
   "cell_type": "code",
   "execution_count": null,
   "metadata": {
    "collapsed": false
   },
   "outputs": [],
   "source": []
  }
 ],
 "metadata": {
  "kernelspec": {
   "display_name": "Python 3",
   "language": "python",
   "name": "python3"
  },
  "language_info": {
   "codemirror_mode": {
    "name": "ipython",
    "version": 3
   },
   "file_extension": ".py",
   "mimetype": "text/x-python",
   "name": "python",
   "nbconvert_exporter": "python",
   "pygments_lexer": "ipython3",
   "version": "3.6.0"
  }
 },
 "nbformat": 4,
 "nbformat_minor": 2
}
