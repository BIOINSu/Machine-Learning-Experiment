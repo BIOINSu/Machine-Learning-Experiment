{
 "cells": [
  {
   "cell_type": "code",
   "execution_count": 19,
   "metadata": {
    "collapsed": true
   },
   "outputs": [],
   "source": [
    "#导入相应包\n",
    "from sklearn.datasets import load_svmlight_file\n",
    "from sklearn.model_selection import train_test_split\n",
    "import numpy as np\n",
    "import matplotlib.pyplot as plt\n",
    "import math\n",
    "import random"
   ]
  },
  {
   "cell_type": "code",
   "execution_count": 20,
   "metadata": {
    "collapsed": false
   },
   "outputs": [],
   "source": [
    "#读取训练数据\n",
    "train_feature,train_label=load_svmlight_file('a9a')\n",
    "train_feature = train_feature.todense()\n",
    "train_label = np.asmatrix(train_label)\n",
    "#读取测试数据\n",
    "test_feature,test_label = load_svmlight_file('a9a.t')\n",
    "test_feature = test_feature.todense()\n",
    "test_label = np.asmatrix(test_label) #(1, 16281)\n",
    "\n"
   ]
  },
  {
   "cell_type": "code",
   "execution_count": 21,
   "metadata": {
    "collapsed": false
   },
   "outputs": [],
   "source": [
    "#向矩阵中加入偏执项的函数\n",
    "def add_bias(matrix,bias):    \n",
    "    bias = []\n",
    "    #构造偏执项list\n",
    "    for i in range(matrix.shape[0]):\n",
    "        bias.append(1)\n",
    "    #向矩阵中加入一列偏执项\n",
    "    matrix = np.column_stack((matrix,bias))\n",
    "    return matrix\n",
    "\n",
    "#在特征集合中加入偏执项\n",
    "train_feature = add_bias(train_feature,1)\n",
    "test_feature = add_bias(test_feature,0) #测试集最后一维缺失了全0列\n",
    "test_feature = add_bias(test_feature,1)"
   ]
  },
  {
   "cell_type": "code",
   "execution_count": 22,
   "metadata": {
    "collapsed": false
   },
   "outputs": [],
   "source": [
    "#构造并初始化系数矩阵\n",
    "w = np.random.random(size=(1,train_feature.shape[1]))"
   ]
  },
  {
   "cell_type": "code",
   "execution_count": 23,
   "metadata": {
    "collapsed": true
   },
   "outputs": [],
   "source": [
    "#求取概率值的函数\n",
    "def likehood(x,w):\n",
    "    lh = 1/(1+ math.exp( - (np.dot(w,np.transpose(x))[0,0]) ))\n",
    "    return lh"
   ]
  },
  {
   "cell_type": "code",
   "execution_count": 24,
   "metadata": {
    "collapsed": false
   },
   "outputs": [],
   "source": [
    "#求取逻辑回归loss函数一个batch的梯度\n",
    "# w 表示系数矩阵\n",
    "# x 表示一个batch矩阵\n",
    "# y 表示这个batch的label\n",
    "def get_gradient(x,y,w):\n",
    "    gradient = 0\n",
    "    for j in range(x.shape[0]):\n",
    "        sub_gradient = likehood(x[j],w)\n",
    "        sub_gradient = sub_gradient - y[0,j]\n",
    "        sub_gradient = sub_gradient*x[j]\n",
    "        gradient = gradient+sub_gradient\n",
    "    gradient = gradient/x.shape[0]\n",
    "\n",
    "    return gradient\n"
   ]
  },
  {
   "cell_type": "code",
   "execution_count": 25,
   "metadata": {
    "collapsed": true
   },
   "outputs": [],
   "source": [
    "#求取逻辑回归loss函数值\n",
    "# x 表示所有样本及其特征\n",
    "# y 表示这些样本的label\n",
    "# w 表示系数矩阵\n",
    "\n",
    "def log_likehood_loss(x,y,w):\n",
    "    loss = 0\n",
    "\n",
    "    for i in range(len(x)):\n",
    "        loss = loss + (y[0,i])*likehood(x[i],w)\n",
    "        loss = loss + (1-y[0,i])*math.log(1-likehood(x[i],w))\n",
    "        \n",
    "    loss = - loss/len(x)\n",
    "    \n",
    "    return loss"
   ]
  },
  {
   "cell_type": "code",
   "execution_count": 26,
   "metadata": {
    "collapsed": false
   },
   "outputs": [],
   "source": [
    "#求系数矩阵倒数的函数\n",
    "def inverse_weight(matrix):\n",
    "    for i in range(matrix.shape[1]):\n",
    "        matrix[0,i] = 1/matrix[0,i]\n",
    "    return matrix\n"
   ]
  },
  {
   "cell_type": "code",
   "execution_count": 31,
   "metadata": {
    "collapsed": false
   },
   "outputs": [
    {
     "data": {
      "image/png": "[encoded data removed]",
      "text/plain": [
       "<matplotlib.figure.Figure at 0x212f7b54a58>"
      ]
     },
     "metadata": {},
     "output_type": "display_data"
    }
   ],
   "source": [
    "def SGD(x,y,x_val,y_val,w,gama,learning_rate,maxiterations):\n",
    "    \n",
    "    #定义迭代次数和不同优化方法的loss值\n",
    "    iteration_time = [] #迭代次数\n",
    "    loss_normal = [] #一般方法的loss值\n",
    "    loss_NAG = [] #NAG的loss值\n",
    "    loss_RMSProp = [] #RMSProp的loss值\n",
    "    loss_AdaDelta = [] #AdaDelta的loss值\n",
    "    loss_Adam = [] #Adam的loss值\n",
    "    \n",
    "    #定义不同优化方法对应的系数矩阵\n",
    "    w_normal = w\n",
    "    w_NAG = w\n",
    "    w_RMSProp = w\n",
    "    w_AdaDelta = w\n",
    "    w_Adam = w\n",
    "    \n",
    "    #各优化方法的初始参数\n",
    "    #NAG\n",
    "    v_NAG = 0\n",
    "    #RMSProp\n",
    "    G_RMSProp = 0\n",
    "    #AdaDelta\n",
    "    G_AdaDelta = 0\n",
    "    Delta = 0\n",
    "    #Adam\n",
    "    m_adam = 0\n",
    "    beta = 0.9\n",
    "    gama_adam = 0.99\n",
    "    G_Adam = 0\n",
    "    \n",
    "    #进行迭代计算\n",
    "    for i in range(0,maxiterations):\n",
    "        \n",
    "        #生成随机数，随机数的范围在x.shape[0]-1的范围内，表示生成的batch的大小\n",
    "        batch_size =  int(x.shape[0]*0.1)           #random.randint(0,x.shape[0]-1)\n",
    "        x_batch = 0\n",
    "        y_batch = []\n",
    "        for k in range(batch_size):\n",
    "            randnum = random.randint(0,x.shape[0]-1)\n",
    "            \n",
    "            y_batch.append(y[0,randnum])\n",
    "            if k == 0:\n",
    "                x_batch = x[randnum]\n",
    "            else:\n",
    "                x_batch = np.vstack((x_batch,x[randnum]))\n",
    "                \n",
    "        y_batch = np.asmatrix(y_batch)\n",
    "        \n",
    "        \n",
    "        \n",
    "        \n",
    "          \n",
    "        #求梯度\n",
    "        #一般方法\n",
    "        normal_gradient = get_gradient(x_batch,y_batch,w_normal) \n",
    "        #NAG\n",
    "        NAG_gradient = get_gradient(x_batch,y_batch,w_NAG-gama*v_NAG)\n",
    "        #RMSProp\n",
    "        RMSProp_gradient = get_gradient(x_batch,y_batch,w_RMSProp)\n",
    "        #AdaDelta\n",
    "        AdaDelta_gradient = get_gradient(x_batch,y_batch,w_AdaDelta)\n",
    "        #Adam\n",
    "        Adam_gradient = get_gradient(x_batch,y_batch,w_Adam)\n",
    "        \n",
    "        \n",
    "        \n",
    "        #使用不同的梯度优化算法对梯度进行优化\n",
    "        #一般方法\n",
    "        w_normal = w_normal - learning_rate*normal_gradient     \n",
    "        #NAG\n",
    "        v_NAG = gama*v_NAG + learning_rate*NAG_gradient\n",
    "        w_NAG = w_NAG - v_NAG\n",
    "        \n",
    "        \n",
    "        #RMSProp\n",
    "        G_RMSProp = gama*G_RMSProp + np.multiply(RMSProp_gradient,RMSProp_gradient )*(1-gama)\n",
    "        w_RMSProp = w_RMSProp - np.multiply( inverse_weight( np.power(G_RMSProp+ 10**(-8),0.5) ) * learning_rate , RMSProp_gradient )\n",
    "        \n",
    "        #AdaDelta\n",
    "        G_AdaDelta = gama*G_AdaDelta + np.multiply(AdaDelta_gradient,AdaDelta_gradient)*(1-gama)\n",
    "        delta_w =  - np.multiply( np.multiply( np.power( Delta+10**(-3) ,0.5) , np.power(G_AdaDelta+10**(-3),0.5) ) , AdaDelta_gradient)\n",
    "        w_AdaDelta = w_AdaDelta + delta_w\n",
    "        Delta = gama*Delta + np.multiply(delta_w,delta_w) * (1-gama)\n",
    "        \n",
    "        \n",
    "        #Adam\n",
    "        m_adam = beta*m_adam + (1-beta)*Adam_gradient\n",
    "        G_Adam = gama_adam*G_Adam + np.multiply(Adam_gradient,Adam_gradient)*(1-gama_adam)\n",
    "        alpha = learning_rate*(  (1-gama_adam**(i+1))**0.5  ) * ( 1/( 1-beta**(i+1) ) )\n",
    "        w_Adam = w_Adam - alpha * np.multiply( m_adam , inverse_weight( np.power(G_Adam+10**(-8),0.5) ) )\n",
    "\n",
    "        \n",
    "        \n",
    "        \n",
    "        \n",
    "        #依据不同优化方法求出对应loss函数的结果,并进行记录\n",
    "        \n",
    "        #记录迭代次数\n",
    "        iteration_time.append(i)\n",
    "        \n",
    "        #记录使用一般方法更新梯度的loss\n",
    "        loss_normal.append(log_likehood_loss(x_val,y_val,w_normal))\n",
    "        \n",
    "        #记录使用NAG更新梯度的loss\n",
    "        loss_NAG.append(log_likehood_loss(x_val,y_val,w_NAG))\n",
    "        \n",
    "        #记录使用RMSProp更新梯度的loss\n",
    "        loss_RMSProp.append(log_likehood_loss(x_val,y_val,w_RMSProp))\n",
    "        \n",
    "        #记录使用AdaDelta更新梯度的loss\n",
    "        loss_AdaDelta.append(log_likehood_loss(x_val,y_val,w_AdaDelta))\n",
    "        \n",
    "        #记录使用Adam更新梯度的loss\n",
    "        loss_Adam.append(log_likehood_loss(x_val,y_val,w_Adam))\n",
    "                \n",
    "        \n",
    "    #画出loss的图像\n",
    "    plt.yscale('log')\n",
    "#     plt.plot(iteration_time, loss_normal , label='Normal Validation Loss')\n",
    "    plt.plot(iteration_time, loss_NAG , label='NAG Validation Loss')\n",
    "    plt.plot(iteration_time, loss_RMSProp , label='RMSProp Validation Loss')\n",
    "    plt.plot(iteration_time, loss_AdaDelta , label='AdaDelta Validation Loss')\n",
    "    plt.plot(iteration_time, loss_Adam , label='Adam Validation Loss')\n",
    "\n",
    "\n",
    "    plt.title('loss')\n",
    "    plt.legend()\n",
    "    plt.show()\n",
    "        \n",
    "        \n",
    "SGD(train_feature,train_label,test_feature,test_label,w,0.9,0.01,250)\n",
    "        \n",
    "        \n",
    "    \n",
    "    \n",
    "    \n"
   ]
  },
  {
   "cell_type": "code",
   "execution_count": null,
   "metadata": {
    "collapsed": true
   },
   "outputs": [],
   "source": []
  }
 ],
 "metadata": {
  "kernelspec": {
   "display_name": "Python 3",
   "language": "python",
   "name": "python3"
  },
  "language_info": {
   "codemirror_mode": {
    "name": "ipython",
    "version": 3
   },
   "file_extension": ".py",
   "mimetype": "text/x-python",
   "name": "python",
   "nbconvert_exporter": "python",
   "pygments_lexer": "ipython3",
   "version": "3.6.0"
  }
 },
 "nbformat": 4,
 "nbformat_minor": 2
}
